{
 "cells": [
  {
   "cell_type": "markdown",
   "metadata": {},
   "source": [
    "# M03 Lab - Case Study: Lists, Functions, and Classes  \n",
    "Ryan Alvey  - 09/05/2022  \n",
    "\n",
    "---"
   ]
  },
  {
   "cell_type": "markdown",
   "metadata": {},
   "source": [
    "### Instructions  \n",
    "\n",
    "Complete the following steps: \n",
    "- Write a Python app that has the following classes: \n",
    "    - A super class called Vehicle, which contains an attribute for vehicle type, such as car, truck, plane, boat, or a broomstick. \n",
    "    - A class called Automobile which will inherit the attributes from Vehicle and also contain the following attributes: \n",
    "        - year \n",
    "        - make \n",
    "        - model \n",
    "        - doors (2 or 4) \n",
    "        - roof (solid or sun roof).  \n",
    "        <br> \n",
    "\n",
    "    - Write an app that will accept user input for a car. The app will store \"car\" into the vehicle type in your Vehicle super class.  \n",
    "    - The app will then ask the user for the year, make, model, doors, and type of roof and store thdata in the attributes above. \n",
    "    - The app will then output the data in an easy-to-read and understandable format, such as this: \n",
    "    > ```Vehicle type: car \n",
    "    > Year: 2022 \n",
    "    > Make: Toyota \n",
    "    > Model: Corolla \n",
    "    > Number of doors: 4 \n",
    "    > Type of roof: sun roof  \n",
    "    > ```"
   ]
  },
  {
   "cell_type": "markdown",
   "metadata": {},
   "source": [
    "--- \n"
   ]
  },
  {
   "cell_type": "code",
   "execution_count": 43,
   "metadata": {},
   "outputs": [
    {
     "name": "stdout",
     "output_type": "stream",
     "text": [
      "The vehicle entered is a: \n",
      "-------------------------\n",
      "Type: car\n",
      "Year: 1977\n",
      "Make: Pontiac\n",
      "Model: Firebird Trans Am\n",
      "Doors: 2\n",
      "Roof: T-top\n"
     ]
    }
   ],
   "source": [
    "\"\"\"\n",
    "File: M03_Lab_ListsFunctionsClasses.ipynb\n",
    "Author: Ryan Alvey for SDEV220\n",
    "Description:\n",
    "\n",
    "This app takes in input from a user regarding the type, year, make, model, number of doors, and roof type of a \n",
    "vehicle. It then stores that information as a class object and provides formatted output for each of these attributes.\n",
    "\n",
    "Variables:\n",
    "    type_input - accepts vehicle type (car, truck, plane, boat..); will only be validated against car/truck for now. \n",
    "    year_input - accepts input for Automobile year.\n",
    "    make_input - accepts input for Automobile make.\n",
    "    model_input - accepts input for Automobile model.\n",
    "    doors_input - accepts input for Automobile number of doors.\n",
    "    roof_input - accepts input for Automobile roof type.\n",
    "    car - hold class object created from the information above. \n",
    "\"\"\"\n",
    "\n",
    "# Parent/super class for Vehicle\n",
    "class Vehicle:\n",
    "    ''' Super-class:  Vehicle \n",
    "        Attributes:  \n",
    "            - vehicle type (such as car, truck, plane, boat, or a broomstick)\n",
    "    '''\n",
    "    def __init__(self, vehicle_type):\n",
    "        ''' Attributes:\n",
    "                - vehicle_type\n",
    "        '''\n",
    "        self.vehicle_type = vehicle_type\n",
    "\n",
    "# Child/Sub class Automobile for automobile vehicle types (car, truck).\n",
    "class Automobile(Vehicle):\n",
    "    ''' Sub class: Automobile which will inherit the attributes from Vehicle.\n",
    "        Inherited Attributes:\n",
    "            - vehicle_type\n",
    "        Attributes: \n",
    "            - year \n",
    "            - make \n",
    "            - model \n",
    "            - doors (2 or 4) \n",
    "            - roof (solid or sun roof).\n",
    "    '''      \n",
    "    def __init__(self, vehicle_type, year, make, model, doors, roof):\n",
    "        super().__init__(vehicle_type)\n",
    "        '''Inherits vehicle_type from class Vehicle'''\n",
    "        self.year = year\n",
    "        self.make = make\n",
    "        self.model = model\n",
    "        self.doors = doors\n",
    "        self.roof = roof\n",
    "\n",
    "# Function to collect information about the vehicle and create a class object.\n",
    "def vehicle_information():\n",
    "    ''' Function: vehicle_information() - which will request input from the user regarding \n",
    "        the vehicle and create a new class object.\n",
    "        Arguments: None\n",
    "    '''\n",
    "    # Request vehicle type. Needed to determine sub-class.     \n",
    "    type_input = input(\n",
    "        \"Enter the type of vehicle (car, truck, plane, boat, broomstick...: )\"\n",
    "    )\n",
    "\n",
    "    # If block to determine sub-class\n",
    "    if type_input.lower() in [\"car\", \"truck\"]:\n",
    "        # Series of input requests to get more information about the vehicle.\n",
    "        year_input = input(\"Please enter the year of manufacturing: \")\n",
    "        make_input = input(\"Please enter the make of the vehicle: \")\n",
    "        model_input = input(\"Please enter the model of the vehicle: \")\n",
    "        doors_input = input(\"Please enter the number of doors: \")\n",
    "        roof_input = input(\"Please enter the type of roof (solid or sunroof): \")\n",
    "\n",
    "        # Assign the information to a class object of Automobile\n",
    "        car = Automobile(\n",
    "            type_input, year_input, make_input, model_input, doors_input, roof_input\n",
    "        )\n",
    "    # Escape clause if anythin other than car or truck are chosen. \n",
    "    else:\n",
    "        print(\"We are not yet ready handle over vehicle types.\")\n",
    "\n",
    "    return car\n",
    "\n",
    "# Function to take input from vehicle_information() which will format and print.\n",
    "def vehicle_output(car):\n",
    "    ''' Function: vehicle_output() - accepts result from vehicle_information(). \n",
    "        Arguments: car\n",
    "    '''\n",
    "    print(f\"The vehicle entered is a: \")\n",
    "    print(f\"-------------------------\")\n",
    "    print(f\"Type: {car.vehicle_type}\")\n",
    "    print(f\"Year: {car.year}\")\n",
    "    print(f\"Make: {car.make}\")\n",
    "    print(f\"Model: {car.model}\")\n",
    "    print(f\"Doors: {car.doors}\")\n",
    "    print(f\"Roof: {car.roof}\")\n",
    "\n",
    "# Run the function vehicle_output which will accept vehicle_information() as its input.\n",
    "vehicle_output(vehicle_information())"
   ]
  }
 ],
 "metadata": {
  "kernelspec": {
   "display_name": "Python 3.10.2 ('veSdev220': venv)",
   "language": "python",
   "name": "python3"
  },
  "language_info": {
   "codemirror_mode": {
    "name": "ipython",
    "version": 3
   },
   "file_extension": ".py",
   "mimetype": "text/x-python",
   "name": "python",
   "nbconvert_exporter": "python",
   "pygments_lexer": "ipython3",
   "version": "3.10.2"
  },
  "orig_nbformat": 4,
  "vscode": {
   "interpreter": {
    "hash": "97cf923e9b870481f83681dbcfb67d0f51b9af1f30bb0f3b737fdf1398a44560"
   }
  }
 },
 "nbformat": 4,
 "nbformat_minor": 2
}
