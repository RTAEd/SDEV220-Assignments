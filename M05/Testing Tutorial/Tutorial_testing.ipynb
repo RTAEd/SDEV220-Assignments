{
 "cells": [
  {
   "cell_type": "markdown",
   "metadata": {},
   "source": [
    "# Getting Started With Testing in Python \n",
    "\n",
    "[Real Python - Getting Started in Testing](https://realpython.com/python-testing/#toc)    \n",
    "\n",
    "<br> \n",
    "\n",
    "### Note: Some of the code examples will not run in the notebook. Another file is available in the directoryfor any other examples that cannot be run.\n",
    "--- "
   ]
  },
  {
   "cell_type": "markdown",
   "metadata": {},
   "source": [
    "The below test code will pass correctly..."
   ]
  },
  {
   "cell_type": "code",
   "execution_count": 1,
   "metadata": {},
   "outputs": [],
   "source": [
    "assert sum([1, 2, 3]) == 6, \"Should be 6\""
   ]
  },
  {
   "cell_type": "markdown",
   "metadata": {},
   "source": [
    "Because the sum of the following will not equal 6, the test will fail and provide an assertion error..."
   ]
  },
  {
   "cell_type": "code",
   "execution_count": 2,
   "metadata": {},
   "outputs": [
    {
     "ename": "AssertionError",
     "evalue": "Should be 6",
     "output_type": "error",
     "traceback": [
      "\u001b[1;31m---------------------------------------------------------------------------\u001b[0m",
      "\u001b[1;31mAssertionError\u001b[0m                            Traceback (most recent call last)",
      "\u001b[1;32mc:\\Users\\rtalv\\Codez\\SDEV220\\SDEV220-Assignments\\M05\\testing.ipynb Cell 3\u001b[0m in \u001b[0;36m<cell line: 1>\u001b[1;34m()\u001b[0m\n\u001b[1;32m----> <a href='vscode-notebook-cell:/c%3A/Users/rtalv/Codez/SDEV220/SDEV220-Assignments/M05/testing.ipynb#W2sZmlsZQ%3D%3D?line=0'>1</a>\u001b[0m \u001b[39massert\u001b[39;00m \u001b[39msum\u001b[39m([\u001b[39m1\u001b[39m, \u001b[39m1\u001b[39m, \u001b[39m1\u001b[39m]) \u001b[39m==\u001b[39m \u001b[39m6\u001b[39m, \u001b[39m\"\u001b[39m\u001b[39mShould be 6\u001b[39m\u001b[39m\"\u001b[39m\n",
      "\u001b[1;31mAssertionError\u001b[0m: Should be 6"
     ]
    }
   ],
   "source": [
    "assert sum([1, 1, 1]) == 6, \"Should be 6\""
   ]
  },
  {
   "cell_type": "markdown",
   "metadata": {},
   "source": []
  },
  {
   "cell_type": "code",
   "execution_count": 1,
   "metadata": {},
   "outputs": [
    {
     "name": "stdout",
     "output_type": "stream",
     "text": [
      "Everything passed\n"
     ]
    }
   ],
   "source": [
    "def test_sum():\n",
    "    assert sum([1, 2, 3]) == 6, \"Should be 6\"\n",
    "\n",
    "if __name__ == \"__main__\":\n",
    "    test_sum()\n",
    "    print(\"Everything passed\")"
   ]
  },
  {
   "cell_type": "markdown",
   "metadata": {},
   "source": [
    "The following code still returns an Assertion error even though the first test passed and the second did not equal 6. Even if there is more than one error, it will only display one error message. This is a good case for why you shuold use test runner programmers. "
   ]
  },
  {
   "cell_type": "code",
   "execution_count": 2,
   "metadata": {},
   "outputs": [
    {
     "ename": "AssertionError",
     "evalue": "Should be 6",
     "output_type": "error",
     "traceback": [
      "\u001b[1;31m---------------------------------------------------------------------------\u001b[0m",
      "\u001b[1;31mAssertionError\u001b[0m                            Traceback (most recent call last)",
      "\u001b[1;32mc:\\Users\\rtalv\\Codez\\SDEV220\\SDEV220-Assignments\\M05\\Testing Tutorial\\testing.ipynb Cell 8\u001b[0m in \u001b[0;36m<cell line: 7>\u001b[1;34m()\u001b[0m\n\u001b[0;32m      <a href='vscode-notebook-cell:/c%3A/Users/rtalv/Codez/SDEV220/SDEV220-Assignments/M05/Testing%20Tutorial/testing.ipynb#X10sZmlsZQ%3D%3D?line=6'>7</a>\u001b[0m \u001b[39mif\u001b[39;00m \u001b[39m__name__\u001b[39m \u001b[39m==\u001b[39m \u001b[39m\"\u001b[39m\u001b[39m__main__\u001b[39m\u001b[39m\"\u001b[39m:\n\u001b[0;32m      <a href='vscode-notebook-cell:/c%3A/Users/rtalv/Codez/SDEV220/SDEV220-Assignments/M05/Testing%20Tutorial/testing.ipynb#X10sZmlsZQ%3D%3D?line=7'>8</a>\u001b[0m     test_sum()\n\u001b[1;32m----> <a href='vscode-notebook-cell:/c%3A/Users/rtalv/Codez/SDEV220/SDEV220-Assignments/M05/Testing%20Tutorial/testing.ipynb#X10sZmlsZQ%3D%3D?line=8'>9</a>\u001b[0m     test_sum_tuple()\n\u001b[0;32m     <a href='vscode-notebook-cell:/c%3A/Users/rtalv/Codez/SDEV220/SDEV220-Assignments/M05/Testing%20Tutorial/testing.ipynb#X10sZmlsZQ%3D%3D?line=9'>10</a>\u001b[0m     \u001b[39mprint\u001b[39m(\u001b[39m\"\u001b[39m\u001b[39mEverything passed\u001b[39m\u001b[39m\"\u001b[39m)\n",
      "\u001b[1;32mc:\\Users\\rtalv\\Codez\\SDEV220\\SDEV220-Assignments\\M05\\Testing Tutorial\\testing.ipynb Cell 8\u001b[0m in \u001b[0;36mtest_sum_tuple\u001b[1;34m()\u001b[0m\n\u001b[0;32m      <a href='vscode-notebook-cell:/c%3A/Users/rtalv/Codez/SDEV220/SDEV220-Assignments/M05/Testing%20Tutorial/testing.ipynb#X10sZmlsZQ%3D%3D?line=3'>4</a>\u001b[0m \u001b[39mdef\u001b[39;00m \u001b[39mtest_sum_tuple\u001b[39m():\n\u001b[1;32m----> <a href='vscode-notebook-cell:/c%3A/Users/rtalv/Codez/SDEV220/SDEV220-Assignments/M05/Testing%20Tutorial/testing.ipynb#X10sZmlsZQ%3D%3D?line=4'>5</a>\u001b[0m     \u001b[39massert\u001b[39;00m \u001b[39msum\u001b[39m((\u001b[39m1\u001b[39m, \u001b[39m2\u001b[39m, \u001b[39m2\u001b[39m)) \u001b[39m==\u001b[39m \u001b[39m6\u001b[39m, \u001b[39m\"\u001b[39m\u001b[39mShould be 6\u001b[39m\u001b[39m\"\u001b[39m\n",
      "\u001b[1;31mAssertionError\u001b[0m: Should be 6"
     ]
    }
   ],
   "source": [
    "def test_sum():\n",
    "    assert sum([1, 2, 3]) == 6, \"Should be 6\"\n",
    "\n",
    "def test_sum_tuple():\n",
    "    assert sum((1, 2, 2)) == 6, \"Should be 6\"\n",
    "\n",
    "if __name__ == \"__main__\":\n",
    "    test_sum()\n",
    "    test_sum_tuple()\n",
    "    print(\"Everything passed\")"
   ]
  },
  {
   "cell_type": "markdown",
   "metadata": {},
   "source": [
    "## Testing with uniitest  \n",
    "\n",
    "The below example builds on the previous test, but utilizing the unittest package to provide a better understanding of the test results. As you will see, a `.` indicates a passing test and a 'F' indicates a failed test. \n",
    "\n",
    "Please note: this will not properly run in a Notebook. Please refer to the `test_sum_unittest.py` file in the project's directory."
   ]
  },
  {
   "cell_type": "code",
   "execution_count": null,
   "metadata": {},
   "outputs": [],
   "source": [
    "import unittest\n",
    "\n",
    "\n",
    "class TestSum(unittest.TestCase):\n",
    "\n",
    "    def test_sum(self):\n",
    "        self.assertEqual(sum([1, 2, 3]), 6, \"Should be 6\")\n",
    "\n",
    "    def test_sum_tuple(self):\n",
    "        self.assertEqual(sum((1, 2, 2)), 6, \"Should be 6\")\n",
    "\n",
    "if __name__ == '__main__':\n",
    "    unittest.main()"
   ]
  },
  {
   "cell_type": "markdown",
   "metadata": {},
   "source": [
    "## Nose2 \n",
    "\n",
    "This package works with any unittest. Bu running it, the program will find any file `test*.py` and automatically run the already created tests. \n",
    "\n",
    "You will first need to import the package by running the command `pip install nose2`. Once installed, you will be able to run the file using the following...\n",
    "\n",
    "```python\n",
    "python -m noes2\n",
    "```  \n",
    "\n"
   ]
  },
  {
   "cell_type": "code",
   "execution_count": 1,
   "metadata": {},
   "outputs": [
    {
     "name": "stdout",
     "output_type": "stream",
     "text": [
      "Collecting nose2\n",
      "  Downloading nose2-0.12.0-py2.py3-none-any.whl (152 kB)\n",
      "     ------------------------------------ 152.8/152.8 kB 828.7 kB/s eta 0:00:00\n",
      "Installing collected packages: nose2\n",
      "Successfully installed nose2-0.12.0\n",
      "Note: you may need to restart the kernel to use updated packages.\n"
     ]
    }
   ],
   "source": [
    "pip install nose2"
   ]
  },
  {
   "cell_type": "markdown",
   "metadata": {},
   "source": [
    "Again, the package will not run in a Notebook. The following output was copied from the terminal....\n",
    "\n",
    "```bash\n",
    "(veSdev220) PS C:\\Users\\rtalv\\Codez\\SDEV220\\SDEV220-Assignments\\M05\\Testing Tutorial> python -m nose2\n",
    "..F.F\n",
    "======================================================================\n",
    "FAIL: test_sum_2.test_sum_tuple\n",
    "----------------------------------------------------------------------\n",
    "Traceback (most recent call last):\n",
    "  File \"C:\\Users\\rtalv\\Codez\\SDEV220\\SDEV220-Assignments\\M05\\Testing Tutorial\\test_sum_2.py\", line 5, in test_sum_tuple\n",
    "    assert sum((1, 2, 2)) == 6, \"Should be 6\"\n",
    "AssertionError: Should be 6\n",
    "\n",
    "======================================================================\n",
    "FAIL: test_sum_tuple (test_sum_unittest.TestSum)\n",
    "----------------------------------------------------------------------\n",
    "Traceback (most recent call last):\n",
    "  File \"C:\\Users\\rtalv\\Codez\\SDEV220\\SDEV220-Assignments\\M05\\Testing Tutorial\\test_sum_unittest.py\", line 10, in test_sum_tuple\n",
    "    self.assertEqual(sum((1, 2, 2)), 6, \"Should be 6\")\n",
    "AssertionError: 5 != 6 : Should be 6\n",
    "\n",
    "----------------------------------------------------------------------\n",
    "Ran 5 tests in 0.004s\n",
    "\n",
    "FAILED (failures=2)\n",
    "```"
   ]
  },
  {
   "cell_type": "markdown",
   "metadata": {},
   "source": [
    "## Pytest  \n",
    "`pytest` supports execution of unittest test cases. The real advantage of pytest comes by writing pytest test cases. pytest test cases are a series of functions in a Python file starting with the name `test_. ` \n",
    "\n",
    "\n",
    "pytest has some other great features: \n",
    "\n",
    "\n",
    "- Support for the built-in assert statement instead of using special `self.assert*()` methods\n",
    "- Support for filtering for test cases  \n",
    "- Ability to rerun from the last failing test   \n",
    "\n",
    "An ecosystem of hundreds of plugins to extend the functionality"
   ]
  },
  {
   "cell_type": "markdown",
   "metadata": {},
   "source": [
    "An example of how to write a test case in Python using `pytest`:\n",
    "\n",
    "```python\n",
    "def test_sum():\n",
    "    assert sum([1, 2, 3]) == 6, \"Should be 6\"\n",
    "\n",
    "def test_sum_tuple():\n",
    "    assert sum((1, 2, 2)) == 6, \"Should be 6\"\n",
    "```  \n",
    "\n",
    "\n",
    "---  "
   ]
  },
  {
   "cell_type": "markdown",
   "metadata": {},
   "source": [
    "# Writing Your First Test"
   ]
  },
  {
   "cell_type": "markdown",
   "metadata": {},
   "source": [
    "To follow along with this portion of the tutorial, we were asked to create a new directory structure containing the follwing...\n",
    "\n",
    "``` bash\n",
    "Your project folder should look like this:\n",
    "\n",
    "project/\n",
    "│\n",
    "└── my_sum/\n",
    "    └── __init__.py\n",
    "\n",
    "```"
   ]
  },
  {
   "cell_type": "markdown",
   "metadata": {},
   "source": [
    "For the __init.py__ file you will add the following code...\n",
    "\n",
    "```python\n",
    "def sum(arg):\n",
    "    total = 0\n",
    "    for val in arg:\n",
    "        total += val\n",
    "    return total\n",
    "```\n",
    "\n",
    "This code example creates a variable called total, iterates over all the values in arg, and adds them to total. It then returns the result once the iterable has been exhausted."
   ]
  },
  {
   "cell_type": "markdown",
   "metadata": {},
   "source": [
    "## Where to Write the Test\n",
    "To get started writing tests, you can simply create a file called test.py, which will contain your first test case. Because the file will need to be able to import your application to be able to test it, you want to place test.py above the package folder, so your directory tree will look something like this:\n",
    "\n",
    "``` bash\n",
    "project/\n",
    "│\n",
    "├── my_sum/\n",
    "│   └── __init__.py\n",
    "|\n",
    "└── test.py\n",
    "\n",
    "```  \n",
    "\n",
    "Multiple tests can be added to the same file, but to keep things clean you may consider adding multiple test files. Just make sure that the files names all start with `test*.py`. \n",
    "\n"
   ]
  },
  {
   "cell_type": "markdown",
   "metadata": {},
   "source": [
    "Creating the test...."
   ]
  },
  {
   "cell_type": "code",
   "execution_count": null,
   "metadata": {},
   "outputs": [],
   "source": [
    "import unittest\n",
    "\n",
    "from my_sum import sum\n",
    "\n",
    "\n",
    "class TestSum(unittest.TestCase):\n",
    "    def test_list_int(self):\n",
    "        \"\"\"\n",
    "        Test that it can sum a list of integers\n",
    "        \"\"\"\n",
    "        data = [1, 2, 3]\n",
    "        result = sum(data)\n",
    "        self.assertEqual(result, 6)\n",
    "\n",
    "if __name__ == '__main__':\n",
    "    unittest.main()"
   ]
  },
  {
   "cell_type": "markdown",
   "metadata": {},
   "source": [
    "This code example:\n",
    "\n",
    "1. Imports sum() from the my_sum package you created\n",
    "\n",
    "2. Defines a new test case class called TestSum, which inherits from unittest.TestCase\n",
    "\n",
    "3. Defines a test method, .test_list_int(), to test a list of integers. The method .test_list_int() will:\n",
    "\n",
    "- Declare a variable data with a list of numbers (1, 2, 3)\n",
    "- Assign the result of my_sum.sum(data) to a result variable\n",
    "- Assert that the value of result equals 6 by using the .assertEqual() method on the unittest.TestCase class\n",
    "4. Defines a command-line entry point, which runs the unittest test-runner .main()\n",
    "\n",
    "If you’re unsure what self is or how .assertEqual() is defined, you can brush up on your object-oriented programming with Python 3 Object-Oriented Programming."
   ]
  },
  {
   "cell_type": "markdown",
   "metadata": {},
   "source": [
    "## How to Write Assertions  \n",
    "\n",
    "unittest comes with lots of methods to assert on the values, types, and existence of variables. Here are some of the most commonly used methods:  \n",
    "\n",
    "| Method | Equivalent To: |\n",
    "|--------|----------------|\n",
    "|.assertEqual(a, b)\t| a == b |\n",
    "|.assertTrue(x)\t| bool(x) is True |\n",
    "|.assertFalse(x)\t| bool(x) is False |\n",
    "|.assertIs(a, b)\t| a is b |\n",
    "|.assertIsNone(x)\t| x is None |\n",
    "|.assertIn(a, b)\t| a in b |\n",
    "|.assertIsInstance(a, b)\t| isinstance(a, b) |\n"
   ]
  },
  {
   "cell_type": "markdown",
   "metadata": {},
   "source": [
    "Executing Your First Test  \n",
    "\n",
    "To run the code runner, you will need to add the following to the bottom of the `test.py` file... \n",
    "\n",
    "```python\n",
    "if __name__ == '__main__':\n",
    "    unittest.main()\n",
    "```  \n",
    "\n",
    "This is a command line entry point. It means that if you execute the script alone by running python test.py at the command line, it will call unittest.main(). This executes the test runner by discovering all classes in this file that inherit from unittest.TestCase.\n",
    "\n",
    "Another way of running the test file is using the unittest command line...\n",
    "\n",
    "```python \n",
    "python -m unittest test\n",
    "``` \n",
    " \n",
    "To force verbose mode, add the `-v` tag...  \n",
    "```python\n",
    "python -m unittest -v test\n",
    "``` \n",
    "\n",
    "To run in auto-discovery mode which will try to detect the tests and run them ....\n",
    "```python\n",
    "python -m unittest discover\n",
    "```\n",
    "If the directory has multiple test files, you can run the following to run all of the tests in the directory...\n",
    "```python\n",
    "python -m unittest discover -s tests\n",
    "```\n",
    "\n",
    "If the tests are not in the source directory, not in root or contained in a sub-directoty, you can run the following...\n",
    "```python\n",
    "python -m unittest discover -s tests -t src\n",
    "``` \n",
    "\n",
    "## Understanding the Test Output  \n",
    "We have added more code to allow the test to testy for fractions. The test.py file should now look like...\n",
    "\n",
    "```python\n",
    "from fractions import Fraction\n",
    "import unittest\n",
    "\n",
    "from my_sum import sum\n",
    "\n",
    "\n",
    "class TestSum(unittest.TestCase):\n",
    "    def test_list_int(self):\n",
    "        \"\"\"\n",
    "        Test that it can sum a list of integers\n",
    "        \"\"\"\n",
    "        data = [1, 2, 3]\n",
    "        result = sum(data)\n",
    "        self.assertEqual(result, 6)\n",
    "\n",
    "    def test_list_fraction(self):\n",
    "        \"\"\"\n",
    "        Test that it can sum a list of fractions\n",
    "        \"\"\"\n",
    "        data = [Fraction(1, 4), Fraction(1, 4), Fraction(2, 5)]\n",
    "        result = sum(data)\n",
    "        self.assertEqual(result, 1)\n",
    "\n",
    "if __name__ == '__main__':\n",
    "    unittest.main()\n",
    "```  \n",
    "\n",
    "Now run the code using...\n",
    "> python -m unittest test  \n",
    "\n",
    "The output copied from the terminal is ...\n",
    "\n",
    "```bash\n",
    "$ python -m unittest test\n",
    "F.\n",
    "======================================================================\n",
    "FAIL: test_list_fraction (test.TestSum)\n",
    "Test that it can sum a list of fractions\n",
    "----------------------------------------------------------------------\n",
    "Traceback (most recent call last):\n",
    "  File \"C:\\Users\\rtalv\\Codez\\SDEV220\\SDEV220-Assignments\\M05\\Testing Tutorial\\project\\test.py\", line 22, in test_list_fraction\n",
    "    self.assertEqual(result, 1)\n",
    "AssertionError: Fraction(9, 10) != 1\n",
    "\n",
    "----------------------------------------------------------------------\n",
    "Ran 2 tests in 0.001s\n",
    "\n",
    "FAILED (failures=1)\n",
    "```  \n",
    "\n"
   ]
  },
  {
   "cell_type": "markdown",
   "metadata": {},
   "source": [
    "# To Run Tests in VSCode Using Their Built-In Operations  \n",
    "\n",
    "- Type `CTRL + SHIFT + P` to get the Command Palatte.\n",
    "- Choose `Debug All Unit Tests`\n",
    "- Click on the cog to select the test runner (unittest) and the home directory (.) "
   ]
  },
  {
   "cell_type": "markdown",
   "metadata": {},
   "source": [
    "Results from the running the above method using the pytest configuration...\n",
    "\n",
    "```bash\n",
    "============================ test session starts =============================\n",
    "platform win32 -- Python 3.10.2, pytest-7.1.3, pluggy-1.0.0\n",
    "rootdir: c:\\Users\\rtalv\\Codez\\SDEV220\n",
    "collected 5 items\n",
    "\n",
    "SDEV220-Assignments\\M05\\Testing Tutorial\\test_sum.py .                   [ 20%]\n",
    "SDEV220-Assignments\\M05\\Testing Tutorial\\test_sum_2.py .F                [ 60%]\n",
    "SDEV220-Assignments\\M05\\Testing Tutorial\\test_sum_unittest.py .F         [100%]\n",
    "\n",
    "================================== FAILURES ===================================\n",
    "_______________________________ test_sum_tuple ________________________________\n",
    "```"
   ]
  }
 ],
 "metadata": {
  "kernelspec": {
   "display_name": "Python 3.10.2 ('veSdev220': venv)",
   "language": "python",
   "name": "python3"
  },
  "language_info": {
   "codemirror_mode": {
    "name": "ipython",
    "version": 3
   },
   "file_extension": ".py",
   "mimetype": "text/x-python",
   "name": "python",
   "nbconvert_exporter": "python",
   "pygments_lexer": "ipython3",
   "version": "3.10.2"
  },
  "orig_nbformat": 4,
  "vscode": {
   "interpreter": {
    "hash": "97cf923e9b870481f83681dbcfb67d0f51b9af1f30bb0f3b737fdf1398a44560"
   }
  }
 },
 "nbformat": 4,
 "nbformat_minor": 2
}
