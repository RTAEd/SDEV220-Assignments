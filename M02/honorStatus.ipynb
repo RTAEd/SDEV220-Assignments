{
 "cells": [
  {
   "cell_type": "markdown",
   "metadata": {},
   "source": [
    "Name of Application:    honorsStatus.ipynb  \n",
    "Author:                 Ryan Alvey  \n",
    "Description:   \n",
    "\n",
    "> This application will accept a studen's name and GPA information and return if their status qualifies for \n",
    "> Dean's list or Honor Roll. "
   ]
  },
  {
   "cell_type": "code",
   "execution_count": null,
   "metadata": {},
   "outputs": [],
   "source": [
    "try:\n",
    "    # Initiate variable for test condition\n",
    "    last_name_request = \"\"\n",
    "\n",
    "    while last_name_request != \"ZZZ\":\n",
    "        # Begin to evaluate for test condition to exit loop\n",
    "        last_name_request = input(\"Please enter the student's last name: \")\n",
    "\n",
    "        # If the user enters 'ZZZ', then the program will stop\n",
    "        if last_name_request == \"ZZZ\":\n",
    "            break\n",
    "\n",
    "        # If valid input other than 'ZZZ', app begins to evaluate GPA vs Dean's list, Honor Roll, or neither.\n",
    "        else:\n",
    "            # Request remaining user input (First name and GPA)\n",
    "            first_name_request = input(\"Please enter the student's first name: \")\n",
    "            gpa_request = float(input(\"Please enter the student's GPA: \"))\n",
    "            \n",
    "            # Evaluate GPA vs status (Dean's list, Honor Roll, or neither.)\n",
    "            if gpa_request >= 3.5:\n",
    "                print(f\"{first_name_request} {last_name_request} has qualified for Dean's List with a GPA of {gpa_request}. \\n\")\n",
    "            elif gpa_request >= 3.25:\n",
    "                print(f\"{first_name_request} {last_name_request} has qualified for Honor Roll with a GPA of {gpa_request}. \\n\")\n",
    "            else:\n",
    "                print(f\"{first_name_request} {last_name_request} has not qualified for Dean's List or Honor Roll with a GPA of {gpa_request}. \\n\")\n",
    "\n",
    "# If a user enters anything other than a number for GPA, this will raise an exception that will end the application.\n",
    "except ValueError:\n",
    "    print(\"Please use a valid number for the student's GPA\")"
   ]
  }
 ],
 "metadata": {
  "kernelspec": {
   "display_name": "Python 3.10.2 ('veSdev220': venv)",
   "language": "python",
   "name": "python3"
  },
  "language_info": {
   "codemirror_mode": {
    "name": "ipython",
    "version": 3
   },
   "file_extension": ".py",
   "mimetype": "text/x-python",
   "name": "python",
   "nbconvert_exporter": "python",
   "pygments_lexer": "ipython3",
   "version": "3.10.2"
  },
  "orig_nbformat": 4,
  "vscode": {
   "interpreter": {
    "hash": "97cf923e9b870481f83681dbcfb67d0f51b9af1f30bb0f3b737fdf1398a44560"
   }
  }
 },
 "nbformat": 4,
 "nbformat_minor": 2
}
