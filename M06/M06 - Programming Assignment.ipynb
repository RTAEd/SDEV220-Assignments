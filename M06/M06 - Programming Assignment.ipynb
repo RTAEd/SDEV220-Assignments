{
 "cells": [
  {
   "cell_type": "markdown",
   "metadata": {},
   "source": [
    "# M06 Programming Assignment -Concurrency in Python"
   ]
  },
  {
   "cell_type": "markdown",
   "metadata": {},
   "source": [
    "### 13.1 Write the current date as a string to the text file today.txt."
   ]
  },
  {
   "cell_type": "code",
   "execution_count": 15,
   "metadata": {},
   "outputs": [],
   "source": [
    "import time\n",
    "\n",
    "today_ctime = time.ctime()\n",
    "\n",
    "with open('today.txt', 'wt') as fout:\n",
    "    fout.write(today_ctime) "
   ]
  },
  {
   "cell_type": "markdown",
   "metadata": {},
   "source": [
    "### 13.2 Read the text file today.txt into the string today_string."
   ]
  },
  {
   "cell_type": "code",
   "execution_count": 2,
   "metadata": {},
   "outputs": [
    {
     "name": "stdout",
     "output_type": "stream",
     "text": [
      "Sat Oct  1 00:29:14 2022\n",
      "<class 'str'>\n"
     ]
    }
   ],
   "source": [
    "with open('today.txt', 'rt') as fin:\n",
    "    today_list = fin.readlines()\n",
    "    today_string = today_list[0]\n",
    "    \n",
    "    print(today_string)\n",
    "    print(type(today_string))"
   ]
  },
  {
   "cell_type": "markdown",
   "metadata": {},
   "source": [
    "### 13.3 Parse the date from today_string."
   ]
  },
  {
   "cell_type": "code",
   "execution_count": 15,
   "metadata": {},
   "outputs": [
    {
     "name": "stdout",
     "output_type": "stream",
     "text": [
      "time.struct_time(tm_year=2022, tm_mon=10, tm_mday=1, tm_hour=0, tm_min=29, tm_sec=14, tm_wday=5, tm_yday=274, tm_isdst=-1)\n"
     ]
    }
   ],
   "source": [
    "fmt = '%a %b  %d %H:%M:%S %Y'\n",
    "\n",
    "\n",
    "parsed_date = time.strptime(today_string, fmt)\n",
    "print(parsed_date)"
   ]
  },
  {
   "cell_type": "markdown",
   "metadata": {},
   "source": [
    "### 15.1 Use multiprocessing to create three separate processes. Make each one wait a random number of seconds between zero and one, print the current time, and then exit."
   ]
  },
  {
   "cell_type": "code",
   "execution_count": 38,
   "metadata": {},
   "outputs": [
    {
     "ename": "AttributeError",
     "evalue": "module 'datetime' has no attribute 'now'",
     "output_type": "error",
     "traceback": [
      "\u001b[1;31m---------------------------------------------------------------------------\u001b[0m",
      "\u001b[1;31mAttributeError\u001b[0m                            Traceback (most recent call last)",
      "\u001b[1;32mc:\\Users\\rtalv\\Codez\\SDEV220\\SDEV220-Assignments\\M06\\M06 - Programming Assignment.ipynb Cell 9\u001b[0m in \u001b[0;36m<cell line: 38>\u001b[1;34m()\u001b[0m\n\u001b[0;32m     <a href='vscode-notebook-cell:/c%3A/Users/rtalv/Codez/SDEV220/SDEV220-Assignments/M06/M06%20-%20Programming%20Assignment.ipynb#X12sZmlsZQ%3D%3D?line=35'>36</a>\u001b[0m     \u001b[39mprint\u001b[39m(\u001b[39m'\u001b[39m\u001b[39mfinished process\u001b[39m\u001b[39m'\u001b[39m)\n\u001b[0;32m     <a href='vscode-notebook-cell:/c%3A/Users/rtalv/Codez/SDEV220/SDEV220-Assignments/M06/M06%20-%20Programming%20Assignment.ipynb#X12sZmlsZQ%3D%3D?line=37'>38</a>\u001b[0m \u001b[39mif\u001b[39;00m \u001b[39m__name__\u001b[39m \u001b[39m==\u001b[39m \u001b[39m'\u001b[39m\u001b[39m__main__\u001b[39m\u001b[39m'\u001b[39m:\n\u001b[1;32m---> <a href='vscode-notebook-cell:/c%3A/Users/rtalv/Codez/SDEV220/SDEV220-Assignments/M06/M06%20-%20Programming%20Assignment.ipynb#X12sZmlsZQ%3D%3D?line=39'>40</a>\u001b[0m     main()\n",
      "\u001b[1;32mc:\\Users\\rtalv\\Codez\\SDEV220\\SDEV220-Assignments\\M06\\M06 - Programming Assignment.ipynb Cell 9\u001b[0m in \u001b[0;36mmain\u001b[1;34m()\u001b[0m\n\u001b[0;32m     <a href='vscode-notebook-cell:/c%3A/Users/rtalv/Codez/SDEV220/SDEV220-Assignments/M06/M06%20-%20Programming%20Assignment.ipynb#X12sZmlsZQ%3D%3D?line=14'>15</a>\u001b[0m \u001b[39mdef\u001b[39;00m \u001b[39mmain\u001b[39m():\n\u001b[1;32m---> <a href='vscode-notebook-cell:/c%3A/Users/rtalv/Codez/SDEV220/SDEV220-Assignments/M06/M06%20-%20Programming%20Assignment.ipynb#X12sZmlsZQ%3D%3D?line=16'>17</a>\u001b[0m     p1 \u001b[39m=\u001b[39m Process(target\u001b[39m=\u001b[39mwait_and_print())\n\u001b[0;32m     <a href='vscode-notebook-cell:/c%3A/Users/rtalv/Codez/SDEV220/SDEV220-Assignments/M06/M06%20-%20Programming%20Assignment.ipynb#X12sZmlsZQ%3D%3D?line=17'>18</a>\u001b[0m     \u001b[39mprint\u001b[39m(\u001b[39m'\u001b[39m\u001b[39mProcess: One\u001b[39m\u001b[39m'\u001b[39m)\n\u001b[0;32m     <a href='vscode-notebook-cell:/c%3A/Users/rtalv/Codez/SDEV220/SDEV220-Assignments/M06/M06%20-%20Programming%20Assignment.ipynb#X12sZmlsZQ%3D%3D?line=18'>19</a>\u001b[0m     p1\u001b[39m.\u001b[39mstart()\n",
      "\u001b[1;32mc:\\Users\\rtalv\\Codez\\SDEV220\\SDEV220-Assignments\\M06\\M06 - Programming Assignment.ipynb Cell 9\u001b[0m in \u001b[0;36mwait_and_print\u001b[1;34m()\u001b[0m\n\u001b[0;32m      <a href='vscode-notebook-cell:/c%3A/Users/rtalv/Codez/SDEV220/SDEV220-Assignments/M06/M06%20-%20Programming%20Assignment.ipynb#X12sZmlsZQ%3D%3D?line=8'>9</a>\u001b[0m pause \u001b[39m=\u001b[39m random\u001b[39m.\u001b[39mrandom()\n\u001b[0;32m     <a href='vscode-notebook-cell:/c%3A/Users/rtalv/Codez/SDEV220/SDEV220-Assignments/M06/M06%20-%20Programming%20Assignment.ipynb#X12sZmlsZQ%3D%3D?line=9'>10</a>\u001b[0m time\u001b[39m.\u001b[39msleep(pause)\n\u001b[1;32m---> <a href='vscode-notebook-cell:/c%3A/Users/rtalv/Codez/SDEV220/SDEV220-Assignments/M06/M06%20-%20Programming%20Assignment.ipynb#X12sZmlsZQ%3D%3D?line=10'>11</a>\u001b[0m current_time \u001b[39m=\u001b[39m datetime\u001b[39m.\u001b[39;49mnow()\n\u001b[0;32m     <a href='vscode-notebook-cell:/c%3A/Users/rtalv/Codez/SDEV220/SDEV220-Assignments/M06/M06%20-%20Programming%20Assignment.ipynb#X12sZmlsZQ%3D%3D?line=11'>12</a>\u001b[0m fmt \u001b[39m=\u001b[39m current_time\u001b[39m.\u001b[39mstrftime(\u001b[39m'\u001b[39m\u001b[39m%\u001b[39m\u001b[39mM:\u001b[39m\u001b[39m%\u001b[39m\u001b[39mS.\u001b[39m\u001b[39m%f\u001b[39;00m\u001b[39m'\u001b[39m)\n\u001b[0;32m     <a href='vscode-notebook-cell:/c%3A/Users/rtalv/Codez/SDEV220/SDEV220-Assignments/M06/M06%20-%20Programming%20Assignment.ipynb#X12sZmlsZQ%3D%3D?line=12'>13</a>\u001b[0m \u001b[39mprint\u001b[39m(\u001b[39m\"\u001b[39m\u001b[39mFormatted time in Minutes:Seconds:Milliseconds is\u001b[39m\u001b[39m\"\u001b[39m,fmt)\n",
      "\u001b[1;31mAttributeError\u001b[0m: module 'datetime' has no attribute 'now'"
     ]
    }
   ],
   "source": [
    "from multiprocessing.connection import wait\n",
    "import time\n",
    "import datetime\n",
    "import random   \n",
    "from multiprocessing import Process\n",
    "\n",
    "\n",
    "def wait_and_print():\n",
    "    pause = random.random()\n",
    "    time.sleep(pause)\n",
    "    current_time = datetime.now()\n",
    "    fmt = current_time.strftime('%M:%S.%f')\n",
    "    print(\"Formatted time in Minutes:Seconds:Milliseconds is\",fmt)\n",
    " \n",
    "def main():\n",
    "\n",
    "    p1 = Process(target=wait_and_print())\n",
    "    print('Process: One')\n",
    "    p1.start()\n",
    "    # p1.join()\n",
    "\n",
    "    p2 = Process(target=wait_and_print())\n",
    "    print('Process: Two')\n",
    "    p2.start()\n",
    "    # p2.join()\n",
    "\n",
    "    p3 = Process(target=wait_and_print())\n",
    "    print('Process: Three')\n",
    "    p3.start()\n",
    "    # p3.join()\n",
    "\n",
    "    p1.join()\n",
    "    p2.join()\n",
    "    p3.join()\n",
    "\n",
    "    print('finished process')\n",
    "\n",
    "if __name__ == '__main__':\n",
    "\n",
    "    main()"
   ]
  }
 ],
 "metadata": {
  "kernelspec": {
   "display_name": "Python 3.10.2 ('veSdev220': venv)",
   "language": "python",
   "name": "python3"
  },
  "language_info": {
   "codemirror_mode": {
    "name": "ipython",
    "version": 3
   },
   "file_extension": ".py",
   "mimetype": "text/x-python",
   "name": "python",
   "nbconvert_exporter": "python",
   "pygments_lexer": "ipython3",
   "version": "3.10.2"
  },
  "orig_nbformat": 4,
  "vscode": {
   "interpreter": {
    "hash": "97cf923e9b870481f83681dbcfb67d0f51b9af1f30bb0f3b737fdf1398a44560"
   }
  }
 },
 "nbformat": 4,
 "nbformat_minor": 2
}
