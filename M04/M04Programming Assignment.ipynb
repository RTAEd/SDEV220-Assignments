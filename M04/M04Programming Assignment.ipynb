{
 "cells": [
  {
   "cell_type": "markdown",
   "metadata": {},
   "source": [
    "# M04 Programming Assignment - Modules and Databases  \n",
    "\n",
    "Ryan Alvey - for SDEV220 \n",
    "\n",
    "---  \n",
    "\n",
    "Complete the following steps:  \n",
    "In your text book, navigate to the end of Chapter 11 and 16 to the section titled \"Things to Do\"  \n",
    "Complete the following sections in your Jupyter Notebook:  \n",
    "- 11.1\n",
    "- 11.2\n",
    "- 16.8\n",
    "\n",
    "--- \n",
    "\n"
   ]
  },
  {
   "cell_type": "markdown",
   "metadata": {},
   "source": [
    "### 11.1 Create a file called zoo.py. In it, define a function called hours() that prints the string 'Open 9-5 daily'. Then, use the interactive interpreter to import the zoo module and call its hours() function. \n"
   ]
  },
  {
   "cell_type": "code",
   "execution_count": 22,
   "metadata": {},
   "outputs": [
    {
     "name": "stdout",
     "output_type": "stream",
     "text": [
      "Open 9-5 daily.\n"
     ]
    }
   ],
   "source": [
    "import zoo\n",
    "\n",
    "zoo.hours()"
   ]
  },
  {
   "cell_type": "markdown",
   "metadata": {},
   "source": [
    "### 11.2 In the interactive interpreter, import the zoo module as menagerie and call its hours() function. "
   ]
  },
  {
   "cell_type": "code",
   "execution_count": 23,
   "metadata": {},
   "outputs": [
    {
     "name": "stdout",
     "output_type": "stream",
     "text": [
      "Open 9-5 daily.\n"
     ]
    }
   ],
   "source": [
    "import zoo as menagerie\n",
    "\n",
    "menagerie.hours()"
   ]
  },
  {
   "cell_type": "markdown",
   "metadata": {},
   "source": [
    "### 16.8 Use the sqlalchemy module to connect to the sqlite3 database books.db that you just made in exercise 16.4. As in 16.6, select and print the title column from the book table in alphabetical order.  "
   ]
  },
  {
   "cell_type": "markdown",
   "metadata": {},
   "source": [
    "##### 16.4 Use the sqlite3 module to create a SQLite database called books.db and a table called books with these fields: title (text), author (text), and year (integer)."
   ]
  },
  {
   "cell_type": "code",
   "execution_count": 1,
   "metadata": {},
   "outputs": [],
   "source": [
    "import sqlite3\n",
    "import csv\n",
    "\n",
    "# Create connection and curson for db connection as well as initiate db named 'books.db'.\n",
    "conn = sqlite3.connect('books.db')\n",
    "curs = conn.cursor()\n",
    "\n",
    "# Crceat table, also called books with 3 columns (title, author, year)\n",
    "curs.execute('''CREATE TABLE books (\n",
    "    title VARCHAR(50) PRIMARY KEY,\n",
    "    author VARCHAR(20),\n",
    "    year INT\n",
    "    )''')\n",
    "\n",
    "# Commit changes and close connection\n",
    "conn.commit()\n",
    "conn.close()"
   ]
  },
  {
   "cell_type": "markdown",
   "metadata": {},
   "source": [
    "##### 16.5 Read books2.csv and insert its data into the book table."
   ]
  },
  {
   "cell_type": "code",
   "execution_count": 3,
   "metadata": {},
   "outputs": [],
   "source": [
    "# Create connection and curson for db connection.\n",
    "conn = sqlite3.connect('books.db')\n",
    "curs = conn.cursor()\n",
    "\n",
    "# Open the csv file and create obj to store contents\n",
    "with open('./books2.csv', 'rt') as file:\n",
    "    contents = csv.reader(file)\n",
    "    # Create safe placeholder to inserting data\n",
    "    dbRecords = \"INSERT INTO books (title,author,year) VALUES(?,?,?)\"\n",
    "    # Insert all records from csv into db\n",
    "    curs.executemany(dbRecords, contents)\n",
    "\n",
    "# Commit the changes to the database and close the connection\n",
    "conn.commit()\n",
    "conn.close()\n",
    "           "
   ]
  },
  {
   "cell_type": "markdown",
   "metadata": {},
   "source": [
    "##### 16.8 Use the sqlalchemy module to connect to the sqlite3 database books.db that you just made in exercise 16.4. As in 16.6, select and print the title column from the book table in alphabetical order."
   ]
  },
  {
   "cell_type": "code",
   "execution_count": 5,
   "metadata": {},
   "outputs": [
    {
     "name": "stdout",
     "output_type": "stream",
     "text": [
      "[('Perdido Street Station',), ('Small Gods',), ('The Spellman Files',), ('The Weirdstone of Brisingamen',), ('Thud!',)]\n"
     ]
    }
   ],
   "source": [
    "# Create connection and curson for db connection.\n",
    "conn = sqlite3.connect('books.db')\n",
    "curs = conn.cursor()\n",
    "\n",
    "# Cursor to run SQL SELCT to find only the titles of the books in alphabetical order\n",
    "curs.execute('SELECT title FROM books ORDER BY title')\n",
    "# Display all results \n",
    "print(curs.fetchall())\n",
    "\n",
    "# Close db connection\n",
    "conn.close()"
   ]
  },
  {
   "cell_type": "markdown",
   "metadata": {},
   "source": [
    "Note: Output not displaying in GitHub. results copied and pasted...\n",
    "\n",
    "> [('Perdido Street Station',), ('Small Gods',), ('The Spellman Files',), ('The Weirdstone of Brisingamen',), ('Thud!',)]"
   ]
  }
 ],
 "metadata": {
  "kernelspec": {
   "display_name": "Python 3.10.2 ('veSdev220': venv)",
   "language": "python",
   "name": "python3"
  },
  "language_info": {
   "codemirror_mode": {
    "name": "ipython",
    "version": 3
   },
   "file_extension": ".py",
   "mimetype": "text/x-python",
   "name": "python",
   "nbconvert_exporter": "python",
   "pygments_lexer": "ipython3",
   "version": "3.10.2"
  },
  "orig_nbformat": 4,
  "vscode": {
   "interpreter": {
    "hash": "97cf923e9b870481f83681dbcfb67d0f51b9af1f30bb0f3b737fdf1398a44560"
   }
  }
 },
 "nbformat": 4,
 "nbformat_minor": 2
}
